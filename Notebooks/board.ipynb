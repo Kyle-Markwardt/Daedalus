{
 "cells": [
  {
   "cell_type": "code",
   "execution_count": 1,
   "metadata": {},
   "outputs": [],
   "source": [
    "import random\n",
    "import matplotlib.pyplot as plt\n",
    "import numpy as np"
   ]
  },
  {
   "cell_type": "code",
   "execution_count": 2,
   "metadata": {},
   "outputs": [],
   "source": [
    "### Tiles and Tokens\n",
    "# Token Lists\n",
    "fixed_tokens = {\n",
    "    (0, 2): \"A\",\n",
    "    (0, 4): \"B\",\n",
    "    (2, 0): \"C\",\n",
    "    (2, 2): \"D\",\n",
    "    (2, 4): \"E\",\n",
    "    (2, 6): \"F\",\n",
    "    (4, 0): \"G\",\n",
    "    (4, 2): \"H\",\n",
    "    (4, 4): \"I\",\n",
    "    (4, 6): \"J\",\n",
    "    (6, 2): \"K\",\n",
    "    (6, 4): \"L\"\n",
    "}\n",
    "\n",
    "movable_tokens = [\n",
    "    \"M\", \"N\", \"O\", \"P\", \"Q\", \"R\", \"S\", \"T\", \"U\", \"V\", \"W\", \"X\"\n",
    "]\n",
    "\n",
    "token_names = {\n",
    "    \"A\": \"Golden Fleece\",\n",
    "    \"B\": \"Pandora’s Box\",\n",
    "    \"C\": \"Ariadne’s Thread\",\n",
    "    \"D\": \"Winged Sandals\",\n",
    "    \"E\": \"Trident of Poseidon\",\n",
    "    \"F\": \"Helm of Hades\",\n",
    "    \"G\": \"Shield of Athena\",\n",
    "    \"H\": \"Labyrinth Key\",\n",
    "    \"I\": \"Golden Apple\",\n",
    "    \"J\": \"Horn of Plenty\",\n",
    "    \"K\": \"Book of Prophecies\",\n",
    "    \"L\": \"Eagle of Zeus\",\n",
    "    \"M\": \"Oracle of Delphi\",\n",
    "    \"N\": \"Medusa’s Head\",\n",
    "    \"O\": \"Ambrosia\",\n",
    "    \"P\": \"Golden Bow of Artemis\",\n",
    "    \"Q\": \"Harp of Orpheus\",\n",
    "    \"R\": \"Cup of Dionysus\",\n",
    "    \"S\": \"Scepter of Hera\",\n",
    "    \"T\": \"Fire of Prometheus\",\n",
    "    \"U\": \"Chariot of Helios\",\n",
    "    \"V\": \"Gorgon’s Shield\",\n",
    "    \"W\": \"Caduceus of Hermes\",\n",
    "    \"X\": \"Pomegranate of Persephone\"\n",
    "}\n",
    "\n",
    "# Tile List\n",
    "movable_tiles = [\n",
    "    {\"type\": \"T\", \"token\": \"M\"},\n",
    "    {\"type\": \"T\", \"token\": \"N\"},\n",
    "    {\"type\": \"T\", \"token\": \"O\"},\n",
    "    {\"type\": \"T\", \"token\": \"P\"},\n",
    "    {\"type\": \"T\", \"token\": \"Q\"},\n",
    "    {\"type\": \"T\", \"token\": \"R\"},\n",
    "    {\"type\": \"corner\", \"token\": \"S\"},\n",
    "    {\"type\": \"corner\", \"token\": \"T\"},\n",
    "    {\"type\": \"corner\", \"token\": \"U\"},\n",
    "    {\"type\": \"corner\", \"token\": \"V\"},\n",
    "    {\"type\": \"corner\", \"token\": \"W\"},\n",
    "    {\"type\": \"corner\", \"token\": \"X\"},\n",
    "    {\"type\": \"corner\", \"token\": None},\n",
    "    {\"type\": \"corner\", \"token\": None},\n",
    "    {\"type\": \"corner\", \"token\": None},\n",
    "    {\"type\": \"corner\", \"token\": None},\n",
    "    {\"type\": \"corner\", \"token\": None},\n",
    "    {\"type\": \"corner\", \"token\": None},\n",
    "    {\"type\": \"corner\", \"token\": None},\n",
    "    {\"type\": \"corner\", \"token\": None},\n",
    "    {\"type\": \"corner\", \"token\": None},\n",
    "    {\"type\": \"corner\", \"token\": None},\n",
    "    {\"type\": \"straight\", \"token\": None},\n",
    "    {\"type\": \"straight\", \"token\": None},\n",
    "    {\"type\": \"straight\", \"token\": None},\n",
    "    {\"type\": \"straight\", \"token\": None},\n",
    "    {\"type\": \"straight\", \"token\": None},\n",
    "    {\"type\": \"straight\", \"token\": None},\n",
    "    {\"type\": \"straight\", \"token\": None},\n",
    "    {\"type\": \"straight\", \"token\": None},\n",
    "    {\"type\": \"straight\", \"token\": None},\n",
    "    {\"type\": \"straight\", \"token\": None},\n",
    "    {\"type\": \"straight\", \"token\": None},\n",
    "    {\"type\": \"straight\", \"token\": None}\n",
    "]"
   ]
  },
  {
   "cell_type": "code",
   "execution_count": 3,
   "metadata": {},
   "outputs": [],
   "source": [
    "class Tile:\n",
    "    def __init__(self, type, orientation=0, token=None):\n",
    "        self.type = type\n",
    "        self.orientation = orientation\n",
    "        self.token = token\n",
    "\n",
    "    def rotate(self):\n",
    "        self.orientation = (self.orientation + 90) % 360\n",
    "\n",
    "    def get_open_paths(self): # specify meaning of orientation for each tile type\n",
    "        if self.type == 'straight':\n",
    "            if self.orientation in [0, 180]:\n",
    "                return {'left': True, 'right': True, 'up': False, 'down': False}\n",
    "            else:\n",
    "                return {'left': False, 'right': False, 'up': True, 'down': True}\n",
    "        elif self.type == 'corner':\n",
    "            if self.orientation == 0:\n",
    "                return {'left': True, 'right': False, 'up': True, 'down': False}\n",
    "            elif self.orientation == 90:\n",
    "                return {'left': False, 'right': True, 'up': True, 'down': False}\n",
    "            elif self.orientation == 180:\n",
    "                return {'left': False, 'right': True, 'up': False, 'down': True}\n",
    "            elif self.orientation == 270:\n",
    "                return {'left': True, 'right': False, 'up': False, 'down': True}\n",
    "        elif self.type == 'T':\n",
    "            if self.orientation == 0:\n",
    "                return {'left': True, 'right': True, 'up': True, 'down': False}\n",
    "            elif self.orientation == 90:\n",
    "                return {'left': False, 'right': True, 'up': True, 'down': True}\n",
    "            elif self.orientation == 180:\n",
    "                return {'left': True, 'right': True, 'up': False, 'down': True}\n",
    "            elif self.orientation == 270:\n",
    "                return {'left': True, 'right': False, 'up': True, 'down': True}\n",
    "        else:\n",
    "            return {'left': False, 'right': False, 'up': False, 'down': False}\n",
    "\n",
    "    def __repr__(self):\n",
    "        return f\"Tile({self.type}, {self.orientation}, {self.token})\""
   ]
  },
  {
   "cell_type": "code",
   "execution_count": 4,
   "metadata": {},
   "outputs": [],
   "source": [
    "class Board:\n",
    "    def __init__(self, size=7):\n",
    "        self.size = size\n",
    "        self.tiles = self._initialize_tiles()\n",
    "        self.fixed_tiles = self._place_fixed_tiles()\n",
    "\n",
    "\n",
    "    def _initialize_tiles(self):\n",
    "        random.shuffle(movable_tiles)\n",
    "\n",
    "        tile_objects = []\n",
    "        tile_index = 0\n",
    "\n",
    "        for row in range(self.size):\n",
    "            row_tiles = []\n",
    "            for col in range(self.size):\n",
    "                if (row, col) in self._fixed_positions():\n",
    "                    row_tiles.append(None)  # Placeholder for fixed tiles\n",
    "                else:\n",
    "                    tile_info = movable_tiles[tile_index]\n",
    "                    tile_type = tile_info[\"type\"]\n",
    "                    token = tile_info[\"token\"]\n",
    "                    orientation = random.choice([0, 90, 180, 270])\n",
    "                    row_tiles.append(Tile(type=tile_type, orientation=orientation, token=token))\n",
    "                    tile_index += 1\n",
    "            tile_objects.append(row_tiles)\n",
    "\n",
    "        # Set the leftover tile as the excess tile\n",
    "        self.excess_tile = Tile(type=\"straight\", orientation=random.choice([0, 90, 180, 270]))\n",
    "\n",
    "        return tile_objects\n",
    "\n",
    "\n",
    "    def _place_fixed_tiles(self):\n",
    "        fixed_tiles = {\n",
    "            (0, 0): Tile(type='corner', orientation=180),\n",
    "            (0, 2): Tile(type='T', orientation=180, token=\"A\"),\n",
    "            (0, 4): Tile(type='T', orientation=180, token=\"B\"),\n",
    "            (0, 6): Tile(type='corner', orientation=270),\n",
    "            (2, 0): Tile(type='T', orientation=90, token=\"C\"),\n",
    "            (2, 2): Tile(type='T', orientation=90, token=\"D\"),\n",
    "            (2, 4): Tile(type='T', orientation=180, token=\"E\"),\n",
    "            (2, 6): Tile(type='T', orientation=270, token=\"F\"),\n",
    "            (4, 0): Tile(type='T', orientation=90, token=\"G\"),\n",
    "            (4, 2): Tile(type='T', orientation=0, token=\"H\"),\n",
    "            (4, 4): Tile(type='T', orientation=270, token=\"I\"),\n",
    "            (4, 6): Tile(type='T', orientation=270, token=\"J\"),\n",
    "            (6, 0): Tile(type='corner', orientation=90),\n",
    "            (6, 2): Tile(type='T', orientation=0, token=\"K\"),\n",
    "            (6, 4): Tile(type='T', orientation=0, token=\"L\"),\n",
    "            (6, 6): Tile(type='corner', orientation=0),\n",
    "        }\n",
    "        \n",
    "        for pos, tile in fixed_tiles.items():\n",
    "            self.tiles[pos[0]][pos[1]] = tile\n",
    "        return fixed_tiles\n",
    "    \n",
    "\n",
    "    def _fixed_positions(self):\n",
    "        return {(0, 0), (0, 2), (0, 4), (0, 6), (2, 0), (2, 2), (2, 4), (2, 6), (4, 0), (4, 2), (4, 4), (4, 6), (6, 0), (6, 2), (6, 4), (6, 6)}\n",
    "    \n",
    "\n",
    "    def push_tile(self, direction, position):\n",
    "        exit_position = None\n",
    "        if direction in ['left', 'right'] and position in [1, 3, 5]:\n",
    "            exit_position = self._push_row(direction, position)\n",
    "        elif direction in ['up', 'down'] and position in [1, 3, 5]:\n",
    "            exit_position = self._push_column(direction, position)\n",
    "        else:\n",
    "            print(\"Invalid push. Only rows and columns 1, 3, and 5 can be pushed.\")\n",
    "        return exit_position\n",
    "\n",
    "    def _push_row(self, direction, row):\n",
    "        if direction == 'left':\n",
    "            new_excess_tile = self.tiles[row][0]\n",
    "            for col in range(self.size - 1):\n",
    "                self.tiles[row][col] = self.tiles[row][col + 1]\n",
    "            self.tiles[row][self.size - 1] = self.excess_tile\n",
    "            self.excess_tile = new_excess_tile\n",
    "            return (row, self.size - 1)\n",
    "        elif direction == 'right':\n",
    "            new_excess_tile = self.tiles[row][self.size - 1]\n",
    "            for col in range(self.size - 1, 0, -1):\n",
    "                self.tiles[row][col] = self.tiles[row][col - 1]\n",
    "            self.tiles[row][0] = self.excess_tile\n",
    "            self.excess_tile = new_excess_tile\n",
    "            return (row, 0)\n",
    "\n",
    "    def _push_column(self, direction, col):\n",
    "        if direction == 'up':\n",
    "            new_excess_tile = self.tiles[0][col]\n",
    "            for row in range(self.size - 1):\n",
    "                self.tiles[row][col] = self.tiles[row + 1][col]\n",
    "            self.tiles[self.size - 1][col] = self.excess_tile\n",
    "            self.excess_tile = new_excess_tile\n",
    "            return (self.size - 1, col)\n",
    "        elif direction == 'down':\n",
    "            new_excess_tile = self.tiles[self.size - 1][col]\n",
    "            for row in range(self.size - 1, 0, -1):\n",
    "                self.tiles[row][col] = self.tiles[row - 1][col]\n",
    "            self.tiles[0][col] = self.excess_tile\n",
    "            self.excess_tile = new_excess_tile\n",
    "            return (0, col)\n",
    "    \n",
    "\n",
    "    # Board debugging and visualization\n",
    "    def visualize_board(self):\n",
    "        fig, ax = plt.subplots()\n",
    "        ax.set_xticks(np.arange(-0.5, self.size, 1))\n",
    "        ax.set_yticks(np.arange(-0.5, self.size, 1))\n",
    "        ax.set_xticklabels([])\n",
    "        ax.set_yticklabels([])\n",
    "        ax.grid(which='both')\n",
    "\n",
    "        for row in range(self.size):\n",
    "            for col in range(self.size):\n",
    "                tile = self.tiles[row][col]\n",
    "                if tile is not None:\n",
    "                    rect = plt.Rectangle((col - 0.5, row - 0.5), 1, 1, fill=None, edgecolor='black')\n",
    "                    ax.add_patch(rect)\n",
    "                    \n",
    "                    # Draw paths based on open paths\n",
    "                    paths = tile.get_open_paths()\n",
    "                    if paths['left']:\n",
    "                        ax.plot([col-0.5, col], [row, row], color='blue')\n",
    "                    if paths['right']:\n",
    "                        ax.plot([col, col+0.5], [row, row], color='blue')\n",
    "                    if paths['up']:\n",
    "                        ax.plot([col, col], [row-0.5, row], color='blue')\n",
    "                    if paths['down']:\n",
    "                        ax.plot([col, col], [row, row+0.5], color='blue')\n",
    "                    \n",
    "                    # Draw token if present\n",
    "                    if tile.token:\n",
    "                        ax.text(col, row, tile.token, ha='center', va='center', fontsize=12, color='red')\n",
    "\n",
    "        plt.gca().invert_yaxis()\n",
    "        plt.show()\n",
    "\n",
    "    def visualize_excess_tile(self):\n",
    "        fig, ax = plt.subplots()\n",
    "        ax.set_xticks([])\n",
    "        ax.set_yticks([])\n",
    "        ax.set_xticklabels([])\n",
    "        ax.set_yticklabels([])\n",
    "        ax.axis('off')\n",
    "\n",
    "        tile = self.excess_tile\n",
    "        rect = plt.Rectangle((0, 0), 1, 1, fill=None, edgecolor='red')\n",
    "        ax.add_patch(rect)\n",
    "        paths = tile.get_open_paths()\n",
    "        if paths['left']:\n",
    "            ax.plot([0, 0.5], [0.5, 0.5], color='blue')\n",
    "        if paths['right']:\n",
    "            ax.plot([0.5, 1], [0.5, 0.5], color='blue')\n",
    "        if paths['up']:\n",
    "            ax.plot([0.5, 0.5], [0.5, 1], color='blue')\n",
    "        if paths['down']:\n",
    "            ax.plot([0.5, 0.5], [0, 0.5], color='blue')\n",
    "\n",
    "        # Draw token if present\n",
    "        if tile.token:\n",
    "            ax.text(0.5, 0.5, tile.token, ha='center', va='center', fontsize=12, color='red')\n",
    "\n",
    "        plt.gca().invert_yaxis()\n",
    "        plt.show()\n",
    "\n",
    "\n",
    "    # Token debugging\n",
    "    def print_tile_info(self):\n",
    "        tile_info = []\n",
    "        for row in range(self.size):\n",
    "            for col in range(self.size):\n",
    "                tile = self.tiles[row][col]\n",
    "                if tile is not None:\n",
    "                    tile_info.append((tile.type, row, col, tile.token))\n",
    "        \n",
    "        # Sort by tile type\n",
    "        tile_info.sort(key=lambda x: x[0])\n",
    "        \n",
    "        for info in tile_info:\n",
    "            print(f\"Type: {info[0]}, Position: ({info[1]}, {info[2]}), Token: {info[3]}\")"
   ]
  },
  {
   "cell_type": "code",
   "execution_count": 6,
   "metadata": {},
   "outputs": [
    {
     "name": "stdout",
     "output_type": "stream",
     "text": [
      "Initial Board:\n"
     ]
    },
    {
     "data": {
      "image/png": "[encoded data removed]",
      "text/plain": [
       "<Figure size 640x480 with 1 Axes>"
      ]
     },
     "metadata": {},
     "output_type": "display_data"
    },
    {
     "name": "stdout",
     "output_type": "stream",
     "text": [
      "Excess Tile:\n"
     ]
    },
    {
     "data": {
      "image/png": "[encoded data removed]",
      "text/plain": [
       "<Figure size 640x480 with 1 Axes>"
      ]
     },
     "metadata": {},
     "output_type": "display_data"
    },
    {
     "name": "stdout",
     "output_type": "stream",
     "text": [
      "Pushing row 1 to the right:\n"
     ]
    },
    {
     "data": {
      "image/png": "[encoded data removed]",
      "text/plain": [
       "<Figure size 640x480 with 1 Axes>"
      ]
     },
     "metadata": {},
     "output_type": "display_data"
    },
    {
     "data": {
      "image/png": "[encoded data removed]",
      "text/plain": [
       "<Figure size 640x480 with 1 Axes>"
      ]
     },
     "metadata": {},
     "output_type": "display_data"
    },
    {
     "name": "stdout",
     "output_type": "stream",
     "text": [
      "Pushing column 1 down:\n"
     ]
    },
    {
     "data": {
      "image/png": "[encoded data removed]",
      "text/plain": [
       "<Figure size 640x480 with 1 Axes>"
      ]
     },
     "metadata": {},
     "output_type": "display_data"
    },
    {
     "data": {
      "image/png": "[encoded data removed]",
      "text/plain": [
       "<Figure size 640x480 with 1 Axes>"
      ]
     },
     "metadata": {},
     "output_type": "display_data"
    },
    {
     "name": "stdout",
     "output_type": "stream",
     "text": [
      "Pushing column 2 up:\n",
      "Invalid push. Only rows and columns 1, 3, and 5 can be pushed.\n"
     ]
    },
    {
     "data": {
      "image/png": "[encoded data removed]",
      "text/plain": [
       "<Figure size 640x480 with 1 Axes>"
      ]
     },
     "metadata": {},
     "output_type": "display_data"
    },
    {
     "data": {
      "image/png": "[encoded data removed]",
      "text/plain": [
       "<Figure size 640x480 with 1 Axes>"
      ]
     },
     "metadata": {},
     "output_type": "display_data"
    }
   ],
   "source": [
    "board = Board()\n",
    "print(\"Initial Board:\")\n",
    "board.visualize_board()\n",
    "\n",
    "print(\"Excess Tile:\")\n",
    "board.visualize_excess_tile()\n",
    "\n",
    "print(\"Pushing row 1 to the right:\")\n",
    "board.push_tile('right', 1)\n",
    "board.visualize_board()\n",
    "board.visualize_excess_tile()\n",
    "\n",
    "print(\"Pushing column 1 down:\")\n",
    "board.push_tile('down', 1)\n",
    "board.visualize_board()\n",
    "board.visualize_excess_tile()\n",
    "\n",
    "print(\"Pushing column 2 up:\")\n",
    "board.push_tile('up', 2)\n",
    "board.visualize_board()\n",
    "board.visualize_excess_tile()\n"
   ]
  },
  {
   "cell_type": "code",
   "execution_count": 7,
   "metadata": {},
   "outputs": [
    {
     "name": "stdout",
     "output_type": "stream",
     "text": [
      "Type: T, Position: (0, 2), Token: A\n",
      "Type: T, Position: (0, 4), Token: B\n",
      "Type: T, Position: (1, 5), Token: Q\n",
      "Type: T, Position: (2, 0), Token: C\n",
      "Type: T, Position: (2, 2), Token: D\n",
      "Type: T, Position: (2, 4), Token: E\n",
      "Type: T, Position: (2, 6), Token: F\n",
      "Type: T, Position: (3, 1), Token: M\n",
      "Type: T, Position: (3, 2), Token: O\n",
      "Type: T, Position: (4, 0), Token: G\n",
      "Type: T, Position: (4, 2), Token: H\n",
      "Type: T, Position: (4, 4), Token: I\n",
      "Type: T, Position: (4, 6), Token: J\n",
      "Type: T, Position: (5, 3), Token: P\n",
      "Type: T, Position: (5, 4), Token: N\n",
      "Type: T, Position: (6, 2), Token: K\n",
      "Type: T, Position: (6, 4), Token: L\n",
      "Type: corner, Position: (0, 0), Token: None\n",
      "Type: corner, Position: (0, 1), Token: None\n",
      "Type: corner, Position: (0, 3), Token: None\n",
      "Type: corner, Position: (0, 5), Token: W\n",
      "Type: corner, Position: (0, 6), Token: None\n",
      "Type: corner, Position: (1, 1), Token: S\n",
      "Type: corner, Position: (1, 2), Token: V\n",
      "Type: corner, Position: (1, 3), Token: None\n",
      "Type: corner, Position: (1, 6), Token: None\n",
      "Type: corner, Position: (3, 0), Token: T\n",
      "Type: corner, Position: (3, 3), Token: None\n",
      "Type: corner, Position: (3, 4), Token: None\n",
      "Type: corner, Position: (3, 6), Token: None\n",
      "Type: corner, Position: (5, 1), Token: U\n",
      "Type: corner, Position: (5, 2), Token: X\n",
      "Type: corner, Position: (5, 6), Token: None\n",
      "Type: corner, Position: (6, 0), Token: None\n",
      "Type: corner, Position: (6, 5), Token: None\n",
      "Type: corner, Position: (6, 6), Token: None\n",
      "Type: straight, Position: (1, 0), Token: None\n",
      "Type: straight, Position: (1, 4), Token: None\n",
      "Type: straight, Position: (2, 1), Token: None\n",
      "Type: straight, Position: (2, 3), Token: None\n",
      "Type: straight, Position: (2, 5), Token: None\n",
      "Type: straight, Position: (3, 5), Token: None\n",
      "Type: straight, Position: (4, 1), Token: None\n",
      "Type: straight, Position: (4, 3), Token: None\n",
      "Type: straight, Position: (4, 5), Token: None\n",
      "Type: straight, Position: (5, 0), Token: None\n",
      "Type: straight, Position: (5, 5), Token: None\n",
      "Type: straight, Position: (6, 1), Token: None\n",
      "Type: straight, Position: (6, 3), Token: None\n"
     ]
    }
   ],
   "source": [
    "board.print_tile_info()\n"
   ]
  },
  {
   "cell_type": "code",
   "execution_count": 8,
   "metadata": {},
   "outputs": [
    {
     "name": "stdout",
     "output_type": "stream",
     "text": [
      "Pushing column 1 down:\n"
     ]
    },
    {
     "data": {
      "image/png": "[encoded data removed]",
      "text/plain": [
       "<Figure size 640x480 with 1 Axes>"
      ]
     },
     "metadata": {},
     "output_type": "display_data"
    },
    {
     "data": {
      "image/png": "[encoded data removed]",
      "text/plain": [
       "<Figure size 640x480 with 1 Axes>"
      ]
     },
     "metadata": {},
     "output_type": "display_data"
    },
    {
     "name": "stdout",
     "output_type": "stream",
     "text": [
      "Type: T, Position: (0, 2), Token: A\n",
      "Type: T, Position: (0, 4), Token: B\n",
      "Type: T, Position: (1, 5), Token: Q\n",
      "Type: T, Position: (2, 0), Token: C\n",
      "Type: T, Position: (2, 2), Token: D\n",
      "Type: T, Position: (2, 4), Token: E\n",
      "Type: T, Position: (2, 6), Token: F\n",
      "Type: T, Position: (3, 2), Token: O\n",
      "Type: T, Position: (4, 0), Token: G\n",
      "Type: T, Position: (4, 1), Token: M\n",
      "Type: T, Position: (4, 2), Token: H\n",
      "Type: T, Position: (4, 4), Token: I\n",
      "Type: T, Position: (4, 6), Token: J\n",
      "Type: T, Position: (5, 3), Token: P\n",
      "Type: T, Position: (5, 4), Token: N\n",
      "Type: T, Position: (6, 2), Token: K\n",
      "Type: T, Position: (6, 4), Token: L\n",
      "Type: corner, Position: (0, 0), Token: None\n",
      "Type: corner, Position: (0, 1), Token: None\n",
      "Type: corner, Position: (0, 3), Token: None\n",
      "Type: corner, Position: (0, 5), Token: W\n",
      "Type: corner, Position: (0, 6), Token: None\n",
      "Type: corner, Position: (1, 1), Token: None\n",
      "Type: corner, Position: (1, 2), Token: V\n",
      "Type: corner, Position: (1, 3), Token: None\n",
      "Type: corner, Position: (1, 6), Token: None\n",
      "Type: corner, Position: (2, 1), Token: S\n",
      "Type: corner, Position: (3, 0), Token: T\n",
      "Type: corner, Position: (3, 3), Token: None\n",
      "Type: corner, Position: (3, 4), Token: None\n",
      "Type: corner, Position: (3, 6), Token: None\n",
      "Type: corner, Position: (5, 2), Token: X\n",
      "Type: corner, Position: (5, 6), Token: None\n",
      "Type: corner, Position: (6, 0), Token: None\n",
      "Type: corner, Position: (6, 1), Token: U\n",
      "Type: corner, Position: (6, 5), Token: None\n",
      "Type: corner, Position: (6, 6), Token: None\n",
      "Type: straight, Position: (1, 0), Token: None\n",
      "Type: straight, Position: (1, 4), Token: None\n",
      "Type: straight, Position: (2, 3), Token: None\n",
      "Type: straight, Position: (2, 5), Token: None\n",
      "Type: straight, Position: (3, 1), Token: None\n",
      "Type: straight, Position: (3, 5), Token: None\n",
      "Type: straight, Position: (4, 3), Token: None\n",
      "Type: straight, Position: (4, 5), Token: None\n",
      "Type: straight, Position: (5, 0), Token: None\n",
      "Type: straight, Position: (5, 1), Token: None\n",
      "Type: straight, Position: (5, 5), Token: None\n",
      "Type: straight, Position: (6, 3), Token: None\n"
     ]
    }
   ],
   "source": [
    "print(\"Pushing column 1 down:\")\n",
    "board.push_tile('down', 1)\n",
    "board.visualize_board()\n",
    "board.visualize_excess_tile()\n",
    "\n",
    "board.print_tile_info()\n"
   ]
  },
  {
   "cell_type": "code",
   "execution_count": null,
   "metadata": {},
   "outputs": [],
   "source": []
  }
 ],
 "metadata": {
  "kernelspec": {
   "display_name": "base",
   "language": "python",
   "name": "python3"
  },
  "language_info": {
   "codemirror_mode": {
    "name": "ipython",
    "version": 3
   },
   "file_extension": ".py",
   "mimetype": "text/x-python",
   "name": "python",
   "nbconvert_exporter": "python",
   "pygments_lexer": "ipython3",
   "version": "3.10.14"
  }
 },
 "nbformat": 4,
 "nbformat_minor": 2
}
