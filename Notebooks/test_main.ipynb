{
 "cells": [
  {
   "cell_type": "code",
   "execution_count": null,
   "metadata": {},
   "outputs": [],
   "source": [
    "from board import Board, Tile\n",
    "from game_logic import LabyrinthEnv, Player"
   ]
  },
  {
   "cell_type": "code",
   "execution_count": null,
   "metadata": {},
   "outputs": [],
   "source": [
    "def main():\n",
    "    # Create a board\n",
    "    board = Board(size=7)\n",
    "    \n",
    "    # Initialize the game environment\n",
    "    env = LabyrinthEnv(board)\n",
    "    \n",
    "    # Display the initial state of the player\n",
    "    print(env.players[0])\n",
    "    \n",
    "    # Visualize the initial board state and spare piece\n",
    "    env.board.visualize_board()\n",
    "    env.board.visualize_excess_tile()\n",
    "\n",
    "    # Rotate the spare tile (example: rotate by 90 degrees)\n",
    "    env.board.rotate_excess_tile(90)\n",
    "\n",
    "    # Visualize the spare piece after rotation\n",
    "    env.board.visualize_excess_tile()\n",
    "\n",
    "    # Example push action\n",
    "    try:\n",
    "        env.step(env.players[0].id, {'type': 'push', 'direction': 'right', 'position': 3})\n",
    "        print(\"Push successful\")\n",
    "    except ValueError as e:\n",
    "        print(e)\n",
    "\n",
    "    # Visualize the board and spare piece after the push\n",
    "    env.board.visualize_board()\n",
    "    env.board.visualize_excess_tile()\n",
    "\n",
    "    # Example move action\n",
    "    env.step(env.players[0].id, {'type': 'move', 'player_id': env.players[0].id, 'new_position': (1, 1)})\n",
    "\n",
    "    # Display the updated player state\n",
    "    print(env.players[0])\n",
    "\n",
    "    # Visualize the board and spare piece after the move\n",
    "    env.board.visualize_board()\n",
    "    env.board.visualize_excess_tile()\n",
    "\n",
    "if __name__ == \"__main__\":\n",
    "    main()\n"
   ]
  },
  {
   "cell_type": "code",
   "execution_count": null,
   "metadata": {},
   "outputs": [],
   "source": []
  }
 ],
 "metadata": {
  "kernelspec": {
   "display_name": "labyrinth",
   "language": "python",
   "name": "python3"
  },
  "language_info": {
   "codemirror_mode": {
    "name": "ipython",
    "version": 3
   },
   "file_extension": ".py",
   "mimetype": "text/x-python",
   "name": "python",
   "nbconvert_exporter": "python",
   "pygments_lexer": "ipython3",
   "version": "3.10.14"
  }
 },
 "nbformat": 4,
 "nbformat_minor": 2
}
